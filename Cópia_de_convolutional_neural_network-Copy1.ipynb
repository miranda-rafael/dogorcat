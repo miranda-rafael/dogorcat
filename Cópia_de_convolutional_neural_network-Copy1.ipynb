{
 "cells": [
  {
   "cell_type": "markdown",
   "metadata": {
    "id": "3DR-eO17geWu"
   },
   "source": [
    "# Convolutional Neural Network"
   ]
  },
  {
   "cell_type": "markdown",
   "metadata": {
    "id": "EMefrVPCg-60"
   },
   "source": [
    "### Importing the libraries"
   ]
  },
  {
   "cell_type": "code",
   "execution_count": 2,
   "metadata": {
    "id": "sCV30xyVhFbE"
   },
   "outputs": [],
   "source": [
    "import tensorflow as tf\n",
    "from keras.preprocessing.image import ImageDataGenerator"
   ]
  },
  {
   "cell_type": "code",
   "execution_count": 3,
   "metadata": {
    "id": "FIleuCAjoFD8"
   },
   "outputs": [
    {
     "data": {
      "text/plain": [
       "'2.3.1'"
      ]
     },
     "execution_count": 3,
     "metadata": {},
     "output_type": "execute_result"
    }
   ],
   "source": [
    "tf.__version__"
   ]
  },
  {
   "cell_type": "markdown",
   "metadata": {
    "id": "oxQxCBWyoGPE"
   },
   "source": [
    "## Part 1 - Data Preprocessing"
   ]
  },
  {
   "cell_type": "markdown",
   "metadata": {
    "id": "MvE-heJNo3GG"
   },
   "source": [
    "### Preprocessing the Training set"
   ]
  },
  {
   "cell_type": "code",
   "execution_count": 4,
   "metadata": {
    "id": "3T7tzGflM0cw"
   },
   "outputs": [
    {
     "name": "stdout",
     "output_type": "stream",
     "text": [
      "Found 8000 images belonging to 2 classes.\n"
     ]
    }
   ],
   "source": [
    "train_datagen = ImageDataGenerator(\n",
    "        rescale=1./255,\n",
    "        shear_range=0.2,\n",
    "        zoom_range=0.2,\n",
    "        horizontal_flip=True)\n",
    "training_set = train_datagen.flow_from_directory(\n",
    "        'dataset/training_set',\n",
    "        target_size=(64, 64),\n",
    "        batch_size=32,\n",
    "        class_mode='binary')"
   ]
  },
  {
   "cell_type": "markdown",
   "metadata": {
    "id": "mrCMmGw9pHys"
   },
   "source": [
    "### Preprocessing the Test set"
   ]
  },
  {
   "cell_type": "code",
   "execution_count": 5,
   "metadata": {
    "id": "9nCmr-PrQFv2"
   },
   "outputs": [
    {
     "name": "stdout",
     "output_type": "stream",
     "text": [
      "Found 2000 images belonging to 2 classes.\n"
     ]
    }
   ],
   "source": [
    "test_datagen = ImageDataGenerator(rescale=1./255)\n",
    "test_set = test_datagen.flow_from_directory(\n",
    "        'dataset/test_set',\n",
    "        target_size=(64, 64),\n",
    "        batch_size=32,\n",
    "        class_mode='binary')"
   ]
  },
  {
   "cell_type": "markdown",
   "metadata": {
    "id": "af8O4l90gk7B"
   },
   "source": [
    "## Part 2 - Building the CNN"
   ]
  },
  {
   "cell_type": "markdown",
   "metadata": {
    "id": "ces1gXY2lmoX"
   },
   "source": [
    "### Initialising the CNN"
   ]
  },
  {
   "cell_type": "code",
   "execution_count": 6,
   "metadata": {
    "id": "nTXQoREPQ5Ms"
   },
   "outputs": [],
   "source": [
    "cnn = tf.keras.models.Sequential()"
   ]
  },
  {
   "cell_type": "markdown",
   "metadata": {
    "id": "u5YJj_XMl5LF"
   },
   "source": [
    "### Step 1 - Convolution"
   ]
  },
  {
   "cell_type": "code",
   "execution_count": 7,
   "metadata": {
    "id": "HjhENpL_SJKZ"
   },
   "outputs": [],
   "source": [
    "cnn.add(tf.keras.layers.Conv2D(filters=32, kernel_size=3, activation='relu', input_shape=[64, 64, 3]))"
   ]
  },
  {
   "cell_type": "markdown",
   "metadata": {
    "id": "tf87FpvxmNOJ"
   },
   "source": [
    "### Step 2 - Pooling"
   ]
  },
  {
   "cell_type": "code",
   "execution_count": 8,
   "metadata": {
    "id": "Ja88e-TXcEHh"
   },
   "outputs": [],
   "source": [
    "cnn.add(tf.keras.layers.MaxPool2D(pool_size=2, strides=2))"
   ]
  },
  {
   "cell_type": "markdown",
   "metadata": {
    "id": "xaTOgD8rm4mU"
   },
   "source": [
    "### Adding a second convolutional layer"
   ]
  },
  {
   "cell_type": "code",
   "execution_count": 9,
   "metadata": {
    "id": "LVbpyzLgc_aW"
   },
   "outputs": [],
   "source": [
    "cnn.add(tf.keras.layers.Conv2D(filters=32, kernel_size=3, activation='relu'))\n",
    "cnn.add(tf.keras.layers.MaxPool2D(pool_size=2, strides=2))"
   ]
  },
  {
   "cell_type": "markdown",
   "metadata": {
    "id": "tmiEuvTunKfk"
   },
   "source": [
    "### Step 3 - Flattening"
   ]
  },
  {
   "cell_type": "code",
   "execution_count": 10,
   "metadata": {
    "id": "pzOimMJ5dQ8j"
   },
   "outputs": [],
   "source": [
    "cnn.add(tf.keras.layers.Flatten())"
   ]
  },
  {
   "cell_type": "markdown",
   "metadata": {
    "id": "dAoSECOm203v"
   },
   "source": [
    "### Step 4 - Full Connection"
   ]
  },
  {
   "cell_type": "code",
   "execution_count": 11,
   "metadata": {
    "id": "NpRhf3H1dgTE"
   },
   "outputs": [],
   "source": [
    "cnn.add(tf.keras.layers.Dense(units=128, activation='relu'))"
   ]
  },
  {
   "cell_type": "markdown",
   "metadata": {
    "id": "yTldFvbX28Na"
   },
   "source": [
    "### Step 5 - Output Layer"
   ]
  },
  {
   "cell_type": "code",
   "execution_count": 12,
   "metadata": {
    "id": "F3FosnsoeBhM"
   },
   "outputs": [],
   "source": [
    "cnn.add(tf.keras.layers.Dense(units=1, activation='sigmoid'))"
   ]
  },
  {
   "cell_type": "markdown",
   "metadata": {
    "id": "D6XkI90snSDl"
   },
   "source": [
    "## Part 3 - Training the CNN"
   ]
  },
  {
   "cell_type": "markdown",
   "metadata": {
    "id": "vfrFQACEnc6i"
   },
   "source": [
    "### Compiling the CNN"
   ]
  },
  {
   "cell_type": "code",
   "execution_count": 13,
   "metadata": {
    "id": "Yg4Sx119eYIa"
   },
   "outputs": [],
   "source": [
    "cnn.compile(optimizer = 'adam', loss = 'binary_crossentropy', metrics = ['accuracy'])"
   ]
  },
  {
   "cell_type": "markdown",
   "metadata": {
    "id": "ehS-v3MIpX2h"
   },
   "source": [
    "### Training the CNN on the Training set and evaluating it on the Test set\n"
   ]
  },
  {
   "cell_type": "code",
   "execution_count": 14,
   "metadata": {
    "id": "4UQU_W3z2LPC"
   },
   "outputs": [
    {
     "name": "stdout",
     "output_type": "stream",
     "text": [
      "Epoch 1/35\n",
      "250/250 [==============================] - 38s 152ms/step - loss: 0.6757 - accuracy: 0.5707 - val_loss: 0.6383 - val_accuracy: 0.6300\n",
      "Epoch 2/35\n",
      "250/250 [==============================] - 39s 155ms/step - loss: 0.6100 - accuracy: 0.6662 - val_loss: 0.5916 - val_accuracy: 0.6935\n",
      "Epoch 3/35\n",
      "250/250 [==============================] - 45s 179ms/step - loss: 0.5700 - accuracy: 0.6959 - val_loss: 0.5505 - val_accuracy: 0.7225\n",
      "Epoch 4/35\n",
      "250/250 [==============================] - 45s 178ms/step - loss: 0.5398 - accuracy: 0.7300 - val_loss: 0.5411 - val_accuracy: 0.7355\n",
      "Epoch 5/35\n",
      "250/250 [==============================] - 46s 183ms/step - loss: 0.5007 - accuracy: 0.7513 - val_loss: 0.4945 - val_accuracy: 0.7725\n",
      "Epoch 6/35\n",
      "250/250 [==============================] - 47s 189ms/step - loss: 0.4863 - accuracy: 0.7606 - val_loss: 0.5127 - val_accuracy: 0.7595\n",
      "Epoch 7/35\n",
      "250/250 [==============================] - 49s 194ms/step - loss: 0.4659 - accuracy: 0.7744 - val_loss: 0.4884 - val_accuracy: 0.7675\n",
      "Epoch 8/35\n",
      "250/250 [==============================] - 46s 186ms/step - loss: 0.4491 - accuracy: 0.7893 - val_loss: 0.4732 - val_accuracy: 0.7745\n",
      "Epoch 9/35\n",
      "250/250 [==============================] - 45s 181ms/step - loss: 0.4301 - accuracy: 0.7979 - val_loss: 0.4632 - val_accuracy: 0.7810\n",
      "Epoch 10/35\n",
      "250/250 [==============================] - 47s 189ms/step - loss: 0.4278 - accuracy: 0.8000 - val_loss: 0.4652 - val_accuracy: 0.7825\n",
      "Epoch 11/35\n",
      "250/250 [==============================] - 46s 186ms/step - loss: 0.4143 - accuracy: 0.8054 - val_loss: 0.4511 - val_accuracy: 0.7920\n",
      "Epoch 12/35\n",
      "250/250 [==============================] - 44s 176ms/step - loss: 0.3931 - accuracy: 0.8175 - val_loss: 0.5479 - val_accuracy: 0.7540\n",
      "Epoch 13/35\n",
      "250/250 [==============================] - 45s 179ms/step - loss: 0.3854 - accuracy: 0.8227 - val_loss: 0.4518 - val_accuracy: 0.8045\n",
      "Epoch 14/35\n",
      "250/250 [==============================] - 44s 175ms/step - loss: 0.3708 - accuracy: 0.8322 - val_loss: 0.4640 - val_accuracy: 0.7835\n",
      "Epoch 15/35\n",
      "250/250 [==============================] - 44s 177ms/step - loss: 0.3627 - accuracy: 0.8386 - val_loss: 0.5361 - val_accuracy: 0.7640\n",
      "Epoch 16/35\n",
      "250/250 [==============================] - 44s 176ms/step - loss: 0.3547 - accuracy: 0.8403 - val_loss: 0.4853 - val_accuracy: 0.7795\n",
      "Epoch 17/35\n",
      "250/250 [==============================] - 46s 183ms/step - loss: 0.3426 - accuracy: 0.8481 - val_loss: 0.4963 - val_accuracy: 0.7920\n",
      "Epoch 18/35\n",
      "250/250 [==============================] - 44s 176ms/step - loss: 0.3259 - accuracy: 0.8569 - val_loss: 0.5109 - val_accuracy: 0.7835\n",
      "Epoch 19/35\n",
      "250/250 [==============================] - 44s 176ms/step - loss: 0.3188 - accuracy: 0.8597 - val_loss: 0.4886 - val_accuracy: 0.7900\n",
      "Epoch 20/35\n",
      "250/250 [==============================] - 44s 175ms/step - loss: 0.3156 - accuracy: 0.8625 - val_loss: 0.5471 - val_accuracy: 0.7775\n",
      "Epoch 21/35\n",
      "250/250 [==============================] - 44s 176ms/step - loss: 0.2944 - accuracy: 0.8706 - val_loss: 0.4957 - val_accuracy: 0.8055\n",
      "Epoch 22/35\n",
      "250/250 [==============================] - 44s 175ms/step - loss: 0.2843 - accuracy: 0.8816 - val_loss: 0.5106 - val_accuracy: 0.7880\n",
      "Epoch 23/35\n",
      "250/250 [==============================] - 44s 176ms/step - loss: 0.2772 - accuracy: 0.8808 - val_loss: 0.5598 - val_accuracy: 0.7740\n",
      "Epoch 24/35\n",
      "250/250 [==============================] - 44s 176ms/step - loss: 0.2746 - accuracy: 0.8794 - val_loss: 0.5078 - val_accuracy: 0.7970\n",
      "Epoch 25/35\n",
      "250/250 [==============================] - 44s 176ms/step - loss: 0.2581 - accuracy: 0.8909 - val_loss: 0.5611 - val_accuracy: 0.7945\n",
      "Epoch 26/35\n",
      "250/250 [==============================] - 44s 176ms/step - loss: 0.2425 - accuracy: 0.9009 - val_loss: 0.5542 - val_accuracy: 0.7915\n",
      "Epoch 27/35\n",
      "250/250 [==============================] - 44s 176ms/step - loss: 0.2425 - accuracy: 0.8971 - val_loss: 0.5220 - val_accuracy: 0.7990\n",
      "Epoch 28/35\n",
      "250/250 [==============================] - 44s 176ms/step - loss: 0.2392 - accuracy: 0.8988 - val_loss: 0.5470 - val_accuracy: 0.7970\n",
      "Epoch 29/35\n",
      "250/250 [==============================] - 44s 176ms/step - loss: 0.2139 - accuracy: 0.9146 - val_loss: 0.5788 - val_accuracy: 0.7975\n",
      "Epoch 30/35\n",
      "250/250 [==============================] - 44s 177ms/step - loss: 0.2188 - accuracy: 0.9103 - val_loss: 0.5677 - val_accuracy: 0.7960\n",
      "Epoch 31/35\n",
      "250/250 [==============================] - 45s 179ms/step - loss: 0.1998 - accuracy: 0.9221 - val_loss: 0.5601 - val_accuracy: 0.7985\n",
      "Epoch 32/35\n",
      "250/250 [==============================] - 44s 176ms/step - loss: 0.2031 - accuracy: 0.9190 - val_loss: 0.5900 - val_accuracy: 0.8005\n",
      "Epoch 33/35\n",
      "250/250 [==============================] - 44s 177ms/step - loss: 0.1811 - accuracy: 0.9276 - val_loss: 0.6209 - val_accuracy: 0.7985\n",
      "Epoch 34/35\n",
      "250/250 [==============================] - 44s 176ms/step - loss: 0.1795 - accuracy: 0.9276 - val_loss: 0.6126 - val_accuracy: 0.7955\n",
      "Epoch 35/35\n",
      "250/250 [==============================] - 44s 176ms/step - loss: 0.1797 - accuracy: 0.9265 - val_loss: 0.6135 - val_accuracy: 0.7935\n"
     ]
    },
    {
     "data": {
      "text/plain": [
       "<tensorflow.python.keras.callbacks.History at 0x1b83b576b20>"
      ]
     },
     "execution_count": 14,
     "metadata": {},
     "output_type": "execute_result"
    }
   ],
   "source": [
    "cnn.fit(x = training_set, validation_data = test_set, epochs = 35)"
   ]
  },
  {
   "cell_type": "markdown",
   "metadata": {
    "id": "U3PZasO0006Z"
   },
   "source": [
    "## Part 4 - Making a single prediction"
   ]
  },
  {
   "cell_type": "code",
   "execution_count": 29,
   "metadata": {
    "id": "UJleg5Rg30ix"
   },
   "outputs": [],
   "source": [
    "import numpy as np\n",
    "from keras.preprocessing import image\n",
    "test_image = image.load_img('dataset/single_prediction/cat_or_dog_2.jpg', target_size = (64, 64))\n",
    "test_image = image.img_to_array(test_image)\n",
    "test_image = np.expand_dims(test_image, axis = 0)\n",
    "result = cnn.predict(test_image)\n",
    "training_set.class_indices\n",
    "if result[0][0] == 1:\n",
    "  prediction = 'dog'\n",
    "else:\n",
    "  prediction = 'cat'"
   ]
  },
  {
   "cell_type": "code",
   "execution_count": 30,
   "metadata": {
    "id": "L58PDvbi7FHq"
   },
   "outputs": [
    {
     "name": "stdout",
     "output_type": "stream",
     "text": [
      "dog\n"
     ]
    }
   ],
   "source": [
    "print(prediction)"
   ]
  },
  {
   "cell_type": "code",
   "execution_count": null,
   "metadata": {},
   "outputs": [],
   "source": []
  },
  {
   "cell_type": "code",
   "execution_count": null,
   "metadata": {},
   "outputs": [],
   "source": []
  }
 ],
 "metadata": {
  "colab": {
   "collapsed_sections": [],
   "name": "Cópia de convolutional_neural_network.ipynb",
   "provenance": [],
   "toc_visible": true
  },
  "kernelspec": {
   "display_name": "Python 3",
   "language": "python",
   "name": "python3"
  },
  "language_info": {
   "codemirror_mode": {
    "name": "ipython",
    "version": 3
   },
   "file_extension": ".py",
   "mimetype": "text/x-python",
   "name": "python",
   "nbconvert_exporter": "python",
   "pygments_lexer": "ipython3",
   "version": "3.8.5"
  }
 },
 "nbformat": 4,
 "nbformat_minor": 1
}
