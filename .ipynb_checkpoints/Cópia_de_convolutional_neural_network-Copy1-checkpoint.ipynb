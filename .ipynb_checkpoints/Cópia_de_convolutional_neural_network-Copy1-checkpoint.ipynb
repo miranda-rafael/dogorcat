{
 "cells": [
  {
   "cell_type": "markdown",
   "metadata": {
    "id": "3DR-eO17geWu"
   },
   "source": [
    "# Convolutional Neural Network"
   ]
  },
  {
   "cell_type": "markdown",
   "metadata": {
    "id": "EMefrVPCg-60"
   },
   "source": [
    "### Importing the libraries"
   ]
  },
  {
   "cell_type": "code",
   "execution_count": 1,
   "metadata": {
    "id": "sCV30xyVhFbE"
   },
   "outputs": [],
   "source": [
    "import tensorflow as tf\n",
    "from keras.preprocessing.image import ImageDataGenerator"
   ]
  },
  {
   "cell_type": "code",
   "execution_count": 2,
   "metadata": {
    "id": "FIleuCAjoFD8"
   },
   "outputs": [
    {
     "data": {
      "text/plain": [
       "'2.3.1'"
      ]
     },
     "execution_count": 2,
     "metadata": {},
     "output_type": "execute_result"
    }
   ],
   "source": [
    "tf.__version__"
   ]
  },
  {
   "cell_type": "markdown",
   "metadata": {
    "id": "oxQxCBWyoGPE"
   },
   "source": [
    "## Part 1 - Data Preprocessing"
   ]
  },
  {
   "cell_type": "markdown",
   "metadata": {
    "id": "MvE-heJNo3GG"
   },
   "source": [
    "### Preprocessing the Training set"
   ]
  },
  {
   "cell_type": "code",
   "execution_count": 3,
   "metadata": {
    "id": "3T7tzGflM0cw"
   },
   "outputs": [
    {
     "name": "stdout",
     "output_type": "stream",
     "text": [
      "Found 8000 images belonging to 2 classes.\n"
     ]
    }
   ],
   "source": [
    "train_datagen = ImageDataGenerator(\n",
    "        rescale=1./255,\n",
    "        shear_range=0.2,\n",
    "        zoom_range=0.2,\n",
    "        horizontal_flip=True)\n",
    "training_set = train_datagen.flow_from_directory(\n",
    "        'dataset/training_set',\n",
    "        target_size=(64, 64),\n",
    "        batch_size=32,\n",
    "        class_mode='binary')"
   ]
  },
  {
   "cell_type": "markdown",
   "metadata": {
    "id": "mrCMmGw9pHys"
   },
   "source": [
    "### Preprocessing the Test set"
   ]
  },
  {
   "cell_type": "code",
   "execution_count": 4,
   "metadata": {
    "id": "9nCmr-PrQFv2"
   },
   "outputs": [
    {
     "name": "stdout",
     "output_type": "stream",
     "text": [
      "Found 2000 images belonging to 2 classes.\n"
     ]
    }
   ],
   "source": [
    "test_datagen = ImageDataGenerator(rescale=1./255)\n",
    "test_set = test_datagen.flow_from_directory(\n",
    "        'dataset/test_set',\n",
    "        target_size=(64, 64),\n",
    "        batch_size=32,\n",
    "        class_mode='binary')"
   ]
  },
  {
   "cell_type": "markdown",
   "metadata": {
    "id": "af8O4l90gk7B"
   },
   "source": [
    "## Part 2 - Building the CNN"
   ]
  },
  {
   "cell_type": "markdown",
   "metadata": {
    "id": "ces1gXY2lmoX"
   },
   "source": [
    "### Initialising the CNN"
   ]
  },
  {
   "cell_type": "code",
   "execution_count": 5,
   "metadata": {
    "id": "nTXQoREPQ5Ms"
   },
   "outputs": [],
   "source": [
    "cnn = tf.keras.models.Sequential()"
   ]
  },
  {
   "cell_type": "markdown",
   "metadata": {
    "id": "u5YJj_XMl5LF"
   },
   "source": [
    "### Step 1 - Convolution"
   ]
  },
  {
   "cell_type": "code",
   "execution_count": 6,
   "metadata": {
    "id": "HjhENpL_SJKZ"
   },
   "outputs": [],
   "source": [
    "cnn.add(tf.keras.layers.Conv2D(filters=32, kernel_size=3, activation='relu', input_shape=[64, 64, 3]))"
   ]
  },
  {
   "cell_type": "markdown",
   "metadata": {
    "id": "tf87FpvxmNOJ"
   },
   "source": [
    "### Step 2 - Pooling"
   ]
  },
  {
   "cell_type": "code",
   "execution_count": 7,
   "metadata": {
    "id": "Ja88e-TXcEHh"
   },
   "outputs": [],
   "source": [
    "cnn.add(tf.keras.layers.MaxPool2D(pool_size=2, strides=2))"
   ]
  },
  {
   "cell_type": "markdown",
   "metadata": {
    "id": "xaTOgD8rm4mU"
   },
   "source": [
    "### Adding a second convolutional layer"
   ]
  },
  {
   "cell_type": "code",
   "execution_count": 8,
   "metadata": {
    "id": "LVbpyzLgc_aW"
   },
   "outputs": [],
   "source": [
    "cnn.add(tf.keras.layers.Conv2D(filters=32, kernel_size=3, activation='relu'))\n",
    "cnn.add(tf.keras.layers.MaxPool2D(pool_size=2, strides=2))"
   ]
  },
  {
   "cell_type": "markdown",
   "metadata": {
    "id": "tmiEuvTunKfk"
   },
   "source": [
    "### Step 3 - Flattening"
   ]
  },
  {
   "cell_type": "code",
   "execution_count": 9,
   "metadata": {
    "id": "pzOimMJ5dQ8j"
   },
   "outputs": [],
   "source": [
    "cnn.add(tf.keras.layers.Flatten())"
   ]
  },
  {
   "cell_type": "markdown",
   "metadata": {
    "id": "dAoSECOm203v"
   },
   "source": [
    "### Step 4 - Full Connection"
   ]
  },
  {
   "cell_type": "code",
   "execution_count": 10,
   "metadata": {
    "id": "NpRhf3H1dgTE"
   },
   "outputs": [],
   "source": [
    "cnn.add(tf.keras.layers.Dense(units=128, activation='relu'))"
   ]
  },
  {
   "cell_type": "markdown",
   "metadata": {
    "id": "yTldFvbX28Na"
   },
   "source": [
    "### Step 5 - Output Layer"
   ]
  },
  {
   "cell_type": "code",
   "execution_count": 11,
   "metadata": {
    "id": "F3FosnsoeBhM"
   },
   "outputs": [],
   "source": [
    "cnn.add(tf.keras.layers.Dense(units=1, activation='sigmoid'))"
   ]
  },
  {
   "cell_type": "markdown",
   "metadata": {
    "id": "D6XkI90snSDl"
   },
   "source": [
    "## Part 3 - Training the CNN"
   ]
  },
  {
   "cell_type": "markdown",
   "metadata": {
    "id": "vfrFQACEnc6i"
   },
   "source": [
    "### Compiling the CNN"
   ]
  },
  {
   "cell_type": "code",
   "execution_count": 12,
   "metadata": {
    "id": "Yg4Sx119eYIa"
   },
   "outputs": [],
   "source": [
    "cnn.compile(optimizer = 'adam', loss = 'binary_crossentropy', metrics = ['accuracy'])"
   ]
  },
  {
   "cell_type": "markdown",
   "metadata": {
    "id": "ehS-v3MIpX2h"
   },
   "source": [
    "### Training the CNN on the Training set and evaluating it on the Test set\n"
   ]
  },
  {
   "cell_type": "code",
   "execution_count": 13,
   "metadata": {
    "id": "4UQU_W3z2LPC"
   },
   "outputs": [
    {
     "name": "stdout",
     "output_type": "stream",
     "text": [
      "Epoch 1/25\n",
      "250/250 [==============================] - 94s 374ms/step - loss: 0.6802 - accuracy: 0.5646 - val_loss: 0.6583 - val_accuracy: 0.6245\n",
      "Epoch 2/25\n",
      "250/250 [==============================] - 46s 183ms/step - loss: 0.6295 - accuracy: 0.6536 - val_loss: 0.6033 - val_accuracy: 0.6925\n",
      "Epoch 3/25\n",
      "250/250 [==============================] - 47s 189ms/step - loss: 0.5984 - accuracy: 0.6805 - val_loss: 0.5999 - val_accuracy: 0.6845\n",
      "Epoch 4/25\n",
      "250/250 [==============================] - 47s 188ms/step - loss: 0.5520 - accuracy: 0.7154 - val_loss: 0.5433 - val_accuracy: 0.7345\n",
      "Epoch 5/25\n",
      "250/250 [==============================] - 47s 189ms/step - loss: 0.5189 - accuracy: 0.7391 - val_loss: 0.5765 - val_accuracy: 0.6970\n",
      "Epoch 6/25\n",
      "250/250 [==============================] - 47s 186ms/step - loss: 0.4968 - accuracy: 0.7581 - val_loss: 0.5192 - val_accuracy: 0.7550\n",
      "Epoch 7/25\n",
      "250/250 [==============================] - 47s 186ms/step - loss: 0.4781 - accuracy: 0.7713 - val_loss: 0.5161 - val_accuracy: 0.7535\n",
      "Epoch 8/25\n",
      "250/250 [==============================] - 46s 185ms/step - loss: 0.4586 - accuracy: 0.7799 - val_loss: 0.5013 - val_accuracy: 0.7655\n",
      "Epoch 9/25\n",
      "250/250 [==============================] - 46s 185ms/step - loss: 0.4331 - accuracy: 0.7993 - val_loss: 0.5156 - val_accuracy: 0.7580\n",
      "Epoch 10/25\n",
      "250/250 [==============================] - 47s 187ms/step - loss: 0.4216 - accuracy: 0.8021 - val_loss: 0.4948 - val_accuracy: 0.7750\n",
      "Epoch 11/25\n",
      "250/250 [==============================] - 46s 186ms/step - loss: 0.3957 - accuracy: 0.8210 - val_loss: 0.4870 - val_accuracy: 0.7785\n",
      "Epoch 12/25\n",
      "250/250 [==============================] - 47s 188ms/step - loss: 0.3836 - accuracy: 0.8301 - val_loss: 0.5045 - val_accuracy: 0.7830\n",
      "Epoch 13/25\n",
      "250/250 [==============================] - 46s 185ms/step - loss: 0.3585 - accuracy: 0.8426 - val_loss: 0.5063 - val_accuracy: 0.7955\n",
      "Epoch 14/25\n",
      "250/250 [==============================] - 48s 192ms/step - loss: 0.3413 - accuracy: 0.8500 - val_loss: 0.5117 - val_accuracy: 0.7760\n",
      "Epoch 15/25\n",
      "250/250 [==============================] - 46s 186ms/step - loss: 0.3273 - accuracy: 0.8572 - val_loss: 0.5252 - val_accuracy: 0.7795\n",
      "Epoch 16/25\n",
      "250/250 [==============================] - 47s 189ms/step - loss: 0.3136 - accuracy: 0.8691 - val_loss: 0.5048 - val_accuracy: 0.7910\n",
      "Epoch 17/25\n",
      "250/250 [==============================] - 47s 186ms/step - loss: 0.2800 - accuracy: 0.8814 - val_loss: 0.5372 - val_accuracy: 0.7825\n",
      "Epoch 18/25\n",
      "250/250 [==============================] - 46s 183ms/step - loss: 0.2740 - accuracy: 0.8839 - val_loss: 0.5341 - val_accuracy: 0.7820\n",
      "Epoch 19/25\n",
      "250/250 [==============================] - 45s 179ms/step - loss: 0.2621 - accuracy: 0.8917 - val_loss: 0.5471 - val_accuracy: 0.7885\n",
      "Epoch 20/25\n",
      "250/250 [==============================] - 47s 188ms/step - loss: 0.2486 - accuracy: 0.8935 - val_loss: 0.5955 - val_accuracy: 0.7725\n",
      "Epoch 21/25\n",
      "250/250 [==============================] - 48s 194ms/step - loss: 0.2232 - accuracy: 0.9100 - val_loss: 0.6237 - val_accuracy: 0.7840\n",
      "Epoch 22/25\n",
      "250/250 [==============================] - 48s 194ms/step - loss: 0.2110 - accuracy: 0.9119 - val_loss: 0.6349 - val_accuracy: 0.7820\n",
      "Epoch 23/25\n",
      "250/250 [==============================] - 45s 179ms/step - loss: 0.2137 - accuracy: 0.9135 - val_loss: 0.6245 - val_accuracy: 0.7865\n",
      "Epoch 24/25\n",
      "250/250 [==============================] - 45s 181ms/step - loss: 0.1995 - accuracy: 0.9191 - val_loss: 0.6485 - val_accuracy: 0.7830\n",
      "Epoch 25/25\n",
      "250/250 [==============================] - 45s 181ms/step - loss: 0.1855 - accuracy: 0.9250 - val_loss: 0.6391 - val_accuracy: 0.7930\n"
     ]
    },
    {
     "data": {
      "text/plain": [
       "<tensorflow.python.keras.callbacks.History at 0x1b248c1a5e0>"
      ]
     },
     "execution_count": 13,
     "metadata": {},
     "output_type": "execute_result"
    }
   ],
   "source": [
    "cnn.fit(x = training_set, validation_data = test_set, epochs = 25)"
   ]
  },
  {
   "cell_type": "markdown",
   "metadata": {
    "id": "U3PZasO0006Z"
   },
   "source": [
    "## Part 4 - Making a single prediction"
   ]
  },
  {
   "cell_type": "code",
   "execution_count": 29,
   "metadata": {
    "id": "UJleg5Rg30ix"
   },
   "outputs": [],
   "source": [
    "import numpy as np\n",
    "from keras.preprocessing import image\n",
    "test_image = image.load_img('dataset/single_prediction/cat_or_dog_2.jpg', target_size = (64, 64))\n",
    "test_image = image.img_to_array(test_image)\n",
    "test_image = np.expand_dims(test_image, axis = 0)\n",
    "result = cnn.predict(test_image)\n",
    "training_set.class_indices\n",
    "if result[0][0] == 1:\n",
    "  prediction = 'dog'\n",
    "else:\n",
    "  prediction = 'cat'"
   ]
  },
  {
   "cell_type": "code",
   "execution_count": 30,
   "metadata": {
    "id": "L58PDvbi7FHq"
   },
   "outputs": [
    {
     "name": "stdout",
     "output_type": "stream",
     "text": [
      "dog\n"
     ]
    }
   ],
   "source": [
    "print(prediction)"
   ]
  },
  {
   "cell_type": "code",
   "execution_count": null,
   "metadata": {},
   "outputs": [],
   "source": []
  },
  {
   "cell_type": "code",
   "execution_count": null,
   "metadata": {},
   "outputs": [],
   "source": []
  }
 ],
 "metadata": {
  "colab": {
   "collapsed_sections": [],
   "name": "Cópia de convolutional_neural_network.ipynb",
   "provenance": [],
   "toc_visible": true
  },
  "kernelspec": {
   "display_name": "Python 3",
   "language": "python",
   "name": "python3"
  },
  "language_info": {
   "codemirror_mode": {
    "name": "ipython",
    "version": 3
   },
   "file_extension": ".py",
   "mimetype": "text/x-python",
   "name": "python",
   "nbconvert_exporter": "python",
   "pygments_lexer": "ipython3",
   "version": "3.8.5"
  }
 },
 "nbformat": 4,
 "nbformat_minor": 1
}
